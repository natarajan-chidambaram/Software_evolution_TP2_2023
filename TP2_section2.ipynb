{
 "cells": [
  {
   "cell_type": "markdown",
   "id": "978a24fe-cb2e-4efc-a2e5-28e910e871d2",
   "metadata": {},
   "source": [
    "# Software Evolution - Practical Session\n",
    "## Laws of software evolution, code counting, code duplication and dependency analysis\n",
    "## Academic year 2022-2023"
   ]
  },
  {
   "cell_type": "markdown",
   "id": "57eb142c-d3ef-4d5e-94cb-d521369b384b",
   "metadata": {},
   "source": [
    "### Write your answers under the questions that are present in this notebook  \n",
    "\n",
    "#### Note: Print the final output of each cell in this notebook\n",
    "\n",
    "### Read Section 1 and Section 2 in the provided description document before proceeding with the following section "
   ]
  },
  {
   "cell_type": "code",
   "execution_count": 2,
   "id": "55d3a082-512b-40e6-95bf-27191ea9aaaa",
   "metadata": {},
   "outputs": [],
   "source": [
    "import os\n",
    "import json\n",
    "from tqdm import tqdm\n",
    "import pandas as pd\n",
    "import numpy as np\n",
    "import matplotlib.pyplot as plt\n",
    "import re\n",
    "import subprocess\n",
    "import math\n",
    "from pandas import option_context\n",
    "from sklearn.linear_model import LinearRegression\n",
    "from sklearn.preprocessing import PolynomialFeatures"
   ]
  },
  {
   "cell_type": "markdown",
   "id": "6d83b58e-d5ad-4004-8cc5-e4b31721bb12",
   "metadata": {},
   "source": [
    "## 2. Verifying laws of software evolution"
   ]
  },
  {
   "cell_type": "code",
   "execution_count": 3,
   "id": "0f76117a-1a18-4cb5-8ed0-3fa9cfdfc31c",
   "metadata": {},
   "outputs": [],
   "source": [
    "#Enter the path where the Eucalyptus project is present\n",
    "eucalyptus_project_path = ''"
   ]
  },
  {
   "cell_type": "markdown",
   "id": "081450a6-87af-484c-8a64-56d49eccff80",
   "metadata": {},
   "source": [
    "### 2.1 Data prepocessing\n",
    "1. Get all the tags present in the eucalyptus project using CLOC\n",
    "2. Filter out the tags that do not correspond to official releases"
   ]
  },
  {
   "cell_type": "markdown",
   "id": "340322a1-719b-472b-8b2a-40c974224c1c",
   "metadata": {},
   "source": [
    "Code Hint to get the tags that are present in the project and read the terminal output:\n",
    "\n",
    "command = f'git -C {eucalyptus_project_path} tag -l --format=\"%(refname:short)\" | sort -r'   \n",
    "process = subprocess.Popen(command, stdout=subprocess.PIPE, shell=True)   \n",
    "all_tags = list(line.strip().decode(\"utf-8\") for line in process.stdout)"
   ]
  },
  {
   "cell_type": "code",
   "execution_count": null,
   "id": "8cede273-9ee7-4e38-b340-9ad4eca08c18",
   "metadata": {},
   "outputs": [],
   "source": [
    "# Your code here\n",
    "# Get all the tags and print them\n",
    "\n",
    "print(all_tags)"
   ]
  },
  {
   "cell_type": "markdown",
   "id": "9aab3c2b",
   "metadata": {},
   "source": [
    "##### Filter the tags based on semantic versioning\n",
    "1. Write a regex statement to select the tags that obey semantic versioning (hint pattern = '^v?[0-9]+\\.[0-9]+(\\.[0-9]+)?$')   \n",
    "2. Print the selected major.minor.path versions and major.minor versions "
   ]
  },
  {
   "cell_type": "code",
   "execution_count": null,
   "id": "e8ed2aea-5e29-4cfa-82fa-f43e233fb5ee",
   "metadata": {},
   "outputs": [],
   "source": [
    "# Your tag filtering code here"
   ]
  },
  {
   "cell_type": "markdown",
   "id": "aca20a9c-4269-42e0-82d0-ff33d9fe9b30",
   "metadata": {},
   "source": [
    "### 2.2 Law of Increasing Growth\n",
    "1. Fetch the total lines of code, total blank lines, total comment lines and total number of files (hint: SUM field in the output) for each tag along with their release date using CLOC\n",
    "2. Separate the data as following (also mentioned in section 2.1 of the description document)  \n",
    "    a) Consider all the three-component versions (major.minor.patch) - Dataset A  \n",
    "    b) Consider only the minor versions (major.minor) - Dataset B  \n",
    "\n",
    "Note: For example, if there exists any tag like 2.1.0.1, then you can consider it as 2.1.0 provided such a tag does not exist in the data. If both 2.1.0 and 2.1.0.1 exists, then you can ignore the latter "
   ]
  },
  {
   "cell_type": "markdown",
   "id": "cbab47f1-933d-4b28-8a35-f7c3e82cd15c",
   "metadata": {},
   "source": [
    "Code hint:  \n",
    "To set the project to a required tag - \n",
    "\n",
    "command = f'git -C {project_path} reset --hard {tag}'   \n",
    "os.system(command)   \n",
    "command = f'CLOC/cloc --git {eucalyptus_project_path} --json' # invoke cloc application to read loc   \n",
    "process = subprocess.Popen(command, stdout=subprocess.PIPE, shell=True)   \n",
    "data_as_str = process.stdout.read()   \n",
    "\n",
    "For each tag, pass the command to the terminal, invoke cloc tool to get the necessary data in the required format (json, md,...), read the terminal output and store the data"
   ]
  },
  {
   "cell_type": "code",
   "execution_count": 5,
   "id": "f722fc93-4221-4ece-91e0-d521ddc84987",
   "metadata": {},
   "outputs": [],
   "source": [
    "#Your code here    "
   ]
  },
  {
   "cell_type": "markdown",
   "id": "85a88c97",
   "metadata": {},
   "source": [
    "For each tag\n",
    "\n",
    "1. get the release date\n",
    "2. combine it with the results obtained in the previous cell (lines of code, comments ...)\n",
    "\n",
    "The final output of this cell should have tag, its release date and total #lines of code, total #comments, total #files, total #blanks."
   ]
  },
  {
   "cell_type": "code",
   "execution_count": null,
   "id": "aefb6d51-33bb-4a0c-95ea-aac4f62c3366",
   "metadata": {},
   "outputs": [],
   "source": [
    "command = f'git -C {project_path} tag -l --format=\"%(refname:short)|%(creatordate:short)\" | sort -r' # to get the release date\n",
    "process = subprocess.Popen(command, stdout=subprocess.PIPE, shell=True)\n",
    "# Your code here"
   ]
  },
  {
   "cell_type": "markdown",
   "id": "a700296b",
   "metadata": {},
   "source": [
    "For easy visualization in the next task, separate you data as following\n",
    "1. That has only the details (tag, release date, total lines of code, total comments and so on) corresponding to versions of the type major.minor\n",
    "2. Similarly, extract the details for the versions of the type major.minor.patch "
   ]
  },
  {
   "cell_type": "code",
   "execution_count": null,
   "id": "c9d32893-d57a-4edc-b1e7-1825b64ae9c9",
   "metadata": {},
   "outputs": [],
   "source": [
    "# Your code here to get the details corresponding to versions of the form major.minor"
   ]
  },
  {
   "cell_type": "code",
   "execution_count": null,
   "id": "1b8ba85a-ea94-4cc3-980e-46d42f59ef0e",
   "metadata": {},
   "outputs": [],
   "source": [
    "# Your code here to get the details corresponding to versions of the form major.minor.patch"
   ]
  },
  {
   "cell_type": "markdown",
   "id": "5635bd4d-979b-44a2-ae4a-1962b170445a",
   "metadata": {},
   "source": [
    "#### Visualization\n",
    "Hint: Convert the dates in the data to proper datetime format rather than having it as a string\n",
    "1. x-axis = version, y-axis = number  \n",
    "    i) for tags of the type major.minor.patch  \n",
    "    ii) for tags of the type major.minor  \n",
    "\n",
    "2. x-axis = date, y-axis = number  \n",
    "    i) for tags of the type major.minor.patch  \n",
    "    ii) for tags of the type major.minor  \n",
    "\n",
    "For easy comparison, place the plots with the versions on x-axis should be on the top (0,0) and (1,0) and their corresponding plots with date on the x-axis right below them (1,0) and (1,1) \n",
    "\n",
    "E.g. if you are using DataFrame:  \n",
    "axes = df[['code','blank','comment','nfiles','major.minor']].plot(x='major.minor', figsize=(18,10), ax=axes[0,0], legend=False)   \n",
    "axes.tick_params(axis='both',labelsize=15)  \n",
    "axes.set_xlabel('major.minor version', fontsize=16)"
   ]
  },
  {
   "cell_type": "code",
   "execution_count": null,
   "id": "2b146e1b-99f4-4a0f-8202-2231a10a86b2",
   "metadata": {},
   "outputs": [],
   "source": [
    "fig,axes = plt.subplots(2,2)\n",
    "\n",
    "# Your plotting code here"
   ]
  },
  {
   "cell_type": "markdown",
   "id": "8774bc4c-9131-425d-b8d2-9d0940e48f6c",
   "metadata": {},
   "source": [
    "### Questions:\n",
    "1. Do you find any difference between the plot that is having date in the x-axis and the plot that is having tag in the x-axis? If yes, then what is the difference? If no, then why is it same?"
   ]
  },
  {
   "cell_type": "markdown",
   "id": "b03dae7d-de25-4146-baf6-d8bfd2419549",
   "metadata": {},
   "source": []
  },
  {
   "cell_type": "markdown",
   "id": "edf025c5-9edc-440d-9bee-5dbdf20431bc",
   "metadata": {},
   "source": [
    "2. Which type of plot is preferable for software evolution analysis?   \n",
    "    a) date in x-axis  \n",
    "    b) tag in x-axis  \n",
    "Why?"
   ]
  },
  {
   "cell_type": "markdown",
   "id": "ea949023-d96b-4fdd-9027-d453bdf51e99",
   "metadata": {},
   "source": []
  },
  {
   "cell_type": "markdown",
   "id": "6110bbae-e381-43ec-9a51-72bf941e3ced",
   "metadata": {},
   "source": [
    "3. Choose an option regarding the growth of the software by considering Dataset B. Motivate your choice using a 1d regression plot (below). **Note**: Do not include comments and blank lines of code     \n",
    "    a) Linear  \n",
    "    b) Sub-linear  \n",
    "    c) Super-linear  "
   ]
  },
  {
   "cell_type": "markdown",
   "id": "73826ddc",
   "metadata": {},
   "source": []
  },
  {
   "cell_type": "markdown",
   "id": "6223f5f6",
   "metadata": {},
   "source": [
    "4. Report the root mean squared error (RMSE) and standard error and R-squared (R2) values that were obtained through the above 1d regression plot."
   ]
  },
  {
   "cell_type": "markdown",
   "id": "c0d32f0a",
   "metadata": {},
   "source": []
  },
  {
   "cell_type": "markdown",
   "id": "cb637502-7b6c-4eb2-8b9e-6cc2f3793031",
   "metadata": {},
   "source": [
    "Plot your 1d regression plot in the following cell  "
   ]
  },
  {
   "cell_type": "code",
   "execution_count": 4,
   "id": "1b3a1dc2-2030-4f14-bf05-147628c7dd65",
   "metadata": {},
   "outputs": [],
   "source": [
    "plt.figure(figsize=(7,7))\n",
    "# Your code for regression plot"
   ]
  },
  {
   "cell_type": "markdown",
   "id": "c7cc92a4-8386-4359-b041-ce267552a09a",
   "metadata": {},
   "source": [
    "### Correlation \n",
    "Correlation is generally used to analyse the relationship between variables. Here, analyse the relationship between the number of lines of code and the number of files using Spearman correlation and Pearson correlation by considering Dataset A. Report the correlation upto 3 decimal places"
   ]
  },
  {
   "cell_type": "code",
   "execution_count": null,
   "id": "70749ee7-78a8-4344-90cb-2ff0b6a0572f",
   "metadata": {},
   "outputs": [],
   "source": [
    "# Your code for correlation"
   ]
  },
  {
   "cell_type": "markdown",
   "id": "3e8f82aa-ce42-4355-8de1-916e371f5af2",
   "metadata": {},
   "source": [
    "### Questions:\n",
    "5. Do you find any difference in correlation values between Pearson and Spearman? Which one is preferable for this use case? why?"
   ]
  },
  {
   "cell_type": "markdown",
   "id": "b6e1599e-113c-4bfa-9c0b-eac18aae3a27",
   "metadata": {},
   "source": []
  },
  {
   "cell_type": "markdown",
   "id": "fb9a8312-20fd-41f7-875e-668761a998a6",
   "metadata": {},
   "source": [
    "6. Based on the above correlation value, how much is the number of lines of code related to the number of files?"
   ]
  },
  {
   "cell_type": "markdown",
   "id": "4ebe75dc-cb80-469b-909d-ca4293365f25",
   "metadata": {},
   "source": []
  },
  {
   "cell_type": "markdown",
   "id": "72e2ea6c-cb13-4dae-8666-ed599c928efe",
   "metadata": {},
   "source": [
    "### Prediction\n",
    "Consider Dataset B for this task. Drop the last two data points in \"number of lines of code\" (LOC) (i.e. drop (LOC) corresponding to v4.4.1 and v4.4.2) and forecast the values for (LOC) for v4.4.1 and v4.4.2 using a basic linear/polynimial regression model.\n",
    "1. Drop the last two data points\n",
    "2. Build a basic regression model\n",
    "3. Ask the model to forecast the next two data points\n",
    "4. Plot the LOC original and forecasted in the same plot. x-axis = date, y-axis = number of lines of code. The plot should have the original evolution line and the fitted line as well. "
   ]
  },
  {
   "cell_type": "code",
   "execution_count": null,
   "id": "1a8b2e38-2975-439e-81d3-8c6dc46ccab9",
   "metadata": {},
   "outputs": [],
   "source": [
    "# Your code here"
   ]
  },
  {
   "cell_type": "code",
   "execution_count": null,
   "id": "e6141273-c4f5-44a9-ac5d-a548b7a7a189",
   "metadata": {},
   "outputs": [],
   "source": [
    "# Your code here"
   ]
  },
  {
   "cell_type": "code",
   "execution_count": null,
   "id": "7db7464c-88d3-492d-9078-42e899757af2",
   "metadata": {},
   "outputs": [],
   "source": [
    "# Your code here"
   ]
  },
  {
   "cell_type": "code",
   "execution_count": null,
   "id": "e67d1b02-fc45-480a-8e03-d9a291636a33",
   "metadata": {},
   "outputs": [],
   "source": [
    "# Your plotting code here"
   ]
  },
  {
   "cell_type": "markdown",
   "id": "8bdd2798-1e93-4beb-8339-4e408d3c39c2",
   "metadata": {},
   "source": [
    "### Questions:\n",
    "7. What is the polynomial degree that you adopted to build the model? Why? "
   ]
  },
  {
   "cell_type": "markdown",
   "id": "f3c421f9-c6f2-4350-8ded-a70a974c86d0",
   "metadata": {},
   "source": []
  },
  {
   "cell_type": "markdown",
   "id": "6a98e16e-1114-4f4b-9867-3f60019ee45f",
   "metadata": {},
   "source": [
    "8. What is the coefficient of determination? (R-squared)"
   ]
  },
  {
   "cell_type": "markdown",
   "id": "0954e7aa-cedd-4f1b-bce2-7793c0cf04c7",
   "metadata": {},
   "source": []
  },
  {
   "cell_type": "markdown",
   "id": "e621e18e-26a2-4cf5-ab5c-162d87b5889d",
   "metadata": {},
   "source": [
    "9. What is the Root mean square error of the model? (hint: consider the error reported by the full orignial curve and the fitted curve)"
   ]
  },
  {
   "cell_type": "markdown",
   "id": "e9e7d092-76af-470a-b85b-563ae5613cf8",
   "metadata": {},
   "source": []
  },
  {
   "cell_type": "markdown",
   "id": "ef8d994a",
   "metadata": {},
   "source": [
    "10. What is the standard error obtained ?"
   ]
  },
  {
   "cell_type": "markdown",
   "id": "d9dfdf1c",
   "metadata": {},
   "source": []
  },
  {
   "cell_type": "markdown",
   "id": "df652fb8",
   "metadata": {},
   "source": [
    "11. What information does RMSE and R2 (R-squared) convey?"
   ]
  },
  {
   "cell_type": "markdown",
   "id": "3964d8fd",
   "metadata": {},
   "source": []
  },
  {
   "cell_type": "markdown",
   "id": "4e3a7513",
   "metadata": {},
   "source": [
    "12. Based on the obtained R2 score, standard error and RMSE during training, how good the regression model fits the data? Which degree would you adopt? Motivate your choice"
   ]
  },
  {
   "cell_type": "markdown",
   "id": "25409620",
   "metadata": {},
   "source": []
  },
  {
   "cell_type": "markdown",
   "id": "393f2a07-2dd7-4ab3-86c7-0b0ba07f046b",
   "metadata": {},
   "source": [
    "### Filtering on coding langugage"
   ]
  },
  {
   "cell_type": "markdown",
   "id": "76c3ed66-711b-4f01-af30-dac4f927bc88",
   "metadata": {},
   "source": [
    "Consider the **prominent languages** used in this software project and plot the distribution of their LOC in a pie chart for the first and the last versions. If the language distribution is too small to visualize, you can plot them in a separate figure or just analyse the numerical data"
   ]
  },
  {
   "cell_type": "code",
   "execution_count": null,
   "id": "9fb22e22-5b37-4a67-9d43-dab4121fa83d",
   "metadata": {},
   "outputs": [],
   "source": [
    "# Your code to get the data for LOC of first and last versions"
   ]
  },
  {
   "cell_type": "code",
   "execution_count": null,
   "id": "dc14b7fe-b4d2-423c-b9c8-b79eb498ef3c",
   "metadata": {},
   "outputs": [],
   "source": [
    "# Your pie chart code here"
   ]
  },
  {
   "cell_type": "markdown",
   "id": "056e7d22-fee2-4efb-ace7-c06b99edbd36",
   "metadata": {},
   "source": [
    "### Question:\n",
    "9. Do you find any significant difference in the distribution of the language used in the software project between its first and the last version? If so, what is the difference and how much is it?"
   ]
  },
  {
   "cell_type": "markdown",
   "id": "8397df5e-e0cd-4608-8e28-d94240b7ace9",
   "metadata": {},
   "source": []
  },
  {
   "cell_type": "markdown",
   "id": "44d37ce7-c3ad-4eb9-a7e6-b7f52ac137c1",
   "metadata": {},
   "source": [
    "### Law of increasing growth for coding langugages"
   ]
  },
  {
   "cell_type": "markdown",
   "id": "ededc08c-1bd4-4725-984a-61a71aa240c6",
   "metadata": {},
   "source": [
    "Get the LOC for each of the considered prominent langugages (as above) for each version of the form major.minor.patch  \n",
    "1) Plot the date (x-axis) vs LOC (y-axis) \n",
    "2) Plot the date (x-axis) vs proportional LOC (y-axis). Proportional is LOC of a language/total number of LOC"
   ]
  },
  {
   "cell_type": "code",
   "execution_count": null,
   "id": "ccd66fa9-c455-4339-bf42-e9b881d6ffad",
   "metadata": {},
   "outputs": [],
   "source": [
    "# Your code to get the LOC for each prominent language of each version"
   ]
  },
  {
   "cell_type": "code",
   "execution_count": null,
   "id": "bf843988-362f-4486-9e49-5a641c1d04dc",
   "metadata": {},
   "outputs": [],
   "source": [
    "# Your plotting code here"
   ]
  },
  {
   "cell_type": "markdown",
   "id": "ea3b1876-ad5a-4f90-96e8-ed07e2852101",
   "metadata": {},
   "source": [
    "### Question:\n",
    "10. Does the prominent languages considered by you obey laws of increasing growth?"
   ]
  },
  {
   "cell_type": "markdown",
   "id": "8df7db15-f203-41d6-9bd6-eccf2f9742b5",
   "metadata": {},
   "source": []
  },
  {
   "cell_type": "markdown",
   "id": "478c66e4-4f20-4ed8-98db-70bdcf920fcd",
   "metadata": {},
   "source": [
    "11. Does this software project obey the Law of Increasing Growth?"
   ]
  },
  {
   "cell_type": "markdown",
   "id": "26146858-0cb6-4fd8-9a6b-debef98390b7",
   "metadata": {},
   "source": []
  },
  {
   "cell_type": "markdown",
   "id": "375ae835-c18c-4af3-a730-32d853df034a",
   "metadata": {},
   "source": [
    "### Modify the CLOC parameters"
   ]
  },
  {
   "cell_type": "markdown",
   "id": "b3d71b90-1492-4833-9c0a-c8a0f7446ada",
   "metadata": {},
   "source": [
    "1. Exclude all bank lines and verify if the Law of Increasing Growth still holds good for this filtering"
   ]
  },
  {
   "cell_type": "code",
   "execution_count": null,
   "id": "ff129b14-94ae-460c-bcb3-981180e72db3",
   "metadata": {},
   "outputs": [],
   "source": [
    "# Your code and plot here"
   ]
  },
  {
   "cell_type": "markdown",
   "id": "5cb0cee6-19b3-4e50-8cb5-82eb50736713",
   "metadata": {},
   "source": [
    "2. Exclude all comment lines and verify if the Law of Increasing Growth still holds good for this filtering"
   ]
  },
  {
   "cell_type": "code",
   "execution_count": null,
   "id": "7d971a34-fe97-4793-9864-07b2114ed373",
   "metadata": {},
   "outputs": [],
   "source": [
    "# Your code and plot here"
   ]
  },
  {
   "cell_type": "markdown",
   "id": "16cfd99a-0a91-497d-a1f9-4d7a8d407736",
   "metadata": {},
   "source": [
    "3. Exclude all non-code files (or consider prominent coding langugages used in the project) and and verify if the Law of Increasing Growth still holds good for this filtering"
   ]
  },
  {
   "cell_type": "code",
   "execution_count": null,
   "id": "d4981a7f-f79a-4e62-9ba3-94723a0ad640",
   "metadata": {},
   "outputs": [],
   "source": [
    "# Your code and plot here"
   ]
  },
  {
   "cell_type": "code",
   "execution_count": null,
   "id": "bc0d6002-1014-43d0-8dfc-dae6a8680a04",
   "metadata": {},
   "outputs": [],
   "source": []
  },
  {
   "cell_type": "markdown",
   "id": "5dfd05d1-2dc8-4abc-8d05-639007bf553e",
   "metadata": {},
   "source": [
    "### 2.3 Law of Continuing Change\n",
    "1. Using CLOC tool, find the features such as number of lines of code that are added, modified, removed and same between two consecutive versions\n",
    "2. Consider all the three component versions (major.minor.patch) - Dataset A\n",
    "3. Consider only the minor versions (major.minor) - Dataset B\n",
    "4. Having all the features in the same plot, create two plots (one for Dataset A and another for Dataset B) the outcomes with date on x-axis and the number on y-axis.\n",
    "5. Make a subplot of all the features\n",
    "\n",
    "Code hint:  \n",
    "For each pair of tags, set the original project to the required tag and the copy of the original project to the next tag.  \n",
    "To get the required data in json format - \"command = f'CLOC/cloc --git --diff {first_project_path} {second_project_path} --json'\""
   ]
  },
  {
   "cell_type": "code",
   "execution_count": null,
   "id": "c38f5e8d-245b-4307-9d98-2340cbea06a1",
   "metadata": {},
   "outputs": [],
   "source": [
    "eucalyptus_project_path = '' # your project path here\n",
    "eucalyptus_copy_project_path = '' # your path to the copy of your project here\n",
    "major_minor_patch_versions = '' #set of version that you would like to consider for this analysis"
   ]
  },
  {
   "cell_type": "code",
   "execution_count": null,
   "id": "f0682e1c-dd84-4f31-bdfa-781e5a6ac75f",
   "metadata": {},
   "outputs": [],
   "source": [
    "# Your code here to get the data"
   ]
  },
  {
   "cell_type": "code",
   "execution_count": null,
   "id": "7b5f935d-dc48-4b97-8d5c-9168e372bb47",
   "metadata": {},
   "outputs": [],
   "source": [
    "# Your code here to get the dates corresponding to the tags"
   ]
  },
  {
   "cell_type": "code",
   "execution_count": null,
   "id": "8500a388-8c65-4203-81df-156a9425b67e",
   "metadata": {},
   "outputs": [],
   "source": [
    "# Your plotting code here (all the features in a single plot)"
   ]
  },
  {
   "cell_type": "code",
   "execution_count": null,
   "id": "9505d1a0-2c0d-470a-b545-95680be092f4",
   "metadata": {},
   "outputs": [],
   "source": [
    "# Your plotting code here, different plot for each feature\n",
    "fig,axes = plt.subplots(2,2)"
   ]
  },
  {
   "cell_type": "markdown",
   "id": "a96114cb-aafb-4c57-8bff-af5d309b1994",
   "metadata": {},
   "source": [
    "### Questions:\n",
    "1. Do you find the Law of Continuing Change holding good here? Prove it empirically."
   ]
  },
  {
   "cell_type": "markdown",
   "id": "131fe261-c978-434d-824f-f6e416fb6110",
   "metadata": {},
   "source": []
  },
  {
   "cell_type": "markdown",
   "id": "dd5ee600-da8e-431d-9028-fc3fc3d9f97e",
   "metadata": {},
   "source": [
    "2. Does the law of increasing growth too hold good here?"
   ]
  },
  {
   "cell_type": "markdown",
   "id": "7fe9e863-19a3-4f53-b50e-b8f065615839",
   "metadata": {},
   "source": []
  },
  {
   "cell_type": "markdown",
   "id": "ce62cb54-5d8f-4e65-a50b-b12cd9f6e362",
   "metadata": {},
   "source": [
    "### Law of continuing change for coding languages\n",
    "Consider the prominent languages used in this software project for versions of the form major.minor.patch\n",
    "1. Obtain the number of lines of code that are added, modified, removed and same between two consecutive versions\n",
    "2. Make plots for each parameter (added, modified, removed and same) with date on x-axis  \n",
    "    a) y-axis number of lines of code   \n",
    "    b) y-axis proportional number of lines of code (number of lines of code of that language/total number of lines of code) "
   ]
  },
  {
   "cell_type": "code",
   "execution_count": null,
   "id": "9707b16c-abb1-4ef8-bd77-af85711cd624",
   "metadata": {},
   "outputs": [],
   "source": [
    "# Your code here"
   ]
  },
  {
   "cell_type": "code",
   "execution_count": null,
   "id": "aaf138ba-8d1e-498a-ac34-17c05c1b0b16",
   "metadata": {},
   "outputs": [],
   "source": [
    "# Your plotting code here\n",
    "fig,axes = plt.subplots(2,2)"
   ]
  },
  {
   "cell_type": "markdown",
   "id": "b4297222-6881-4cc5-a335-c707c3c3c0c1",
   "metadata": {},
   "source": [
    "### Question:\n",
    "3. Does the law of continuing change obey here for all the considered prominent langugages? Comment on the rate of growth.  "
   ]
  },
  {
   "cell_type": "markdown",
   "id": "ae7d089a-2bb5-4a18-a6d4-5919fe73a8d9",
   "metadata": {},
   "source": []
  },
  {
   "cell_type": "markdown",
   "id": "ea29d2e5-7f12-46c4-baad-e4abe3406e9f",
   "metadata": {},
   "source": [
    "4. Does this software project obey Law of Continuing Change?"
   ]
  },
  {
   "cell_type": "markdown",
   "id": "0fe3765f-2f31-4ecc-96cf-991cdb610a14",
   "metadata": {},
   "source": []
  },
  {
   "cell_type": "code",
   "execution_count": null,
   "id": "46b3a214-86cd-4f91-9f1c-ca31089a3c21",
   "metadata": {},
   "outputs": [],
   "source": []
  }
 ],
 "metadata": {
  "kernelspec": {
   "display_name": "Python 3",
   "language": "python",
   "name": "python3"
  },
  "language_info": {
   "codemirror_mode": {
    "name": "ipython",
    "version": 3
   },
   "file_extension": ".py",
   "mimetype": "text/x-python",
   "name": "python",
   "nbconvert_exporter": "python",
   "pygments_lexer": "ipython3",
   "version": "3.8.8"
  }
 },
 "nbformat": 4,
 "nbformat_minor": 5
}
